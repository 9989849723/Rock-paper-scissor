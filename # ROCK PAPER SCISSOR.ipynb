{
 "cells": [
  {
   "cell_type": "code",
   "execution_count": 1,
   "id": "3083da0b",
   "metadata": {},
   "outputs": [],
   "source": [
    "# ROCK PAPER SCISSOR"
   ]
  },
  {
   "cell_type": "code",
   "execution_count": 2,
   "id": "37be1f08",
   "metadata": {},
   "outputs": [
    {
     "name": "stdout",
     "output_type": "stream",
     "text": [
      "please enter your namechinna\n",
      "please enter your namemanoj\n",
      "please choose your one from: rock,paper,scissorpaper\n",
      "please choose your one from: rock,paper,scissorscissor\n",
      "manoj wins\n"
     ]
    }
   ],
   "source": [
    "a=input('please enter your name')\n",
    "b=input('please enter your name')\n",
    "p_1=input(\"please choose your one from: rock,paper,scissor\")\n",
    "p_2=input(\"please choose your one from: rock,paper,scissor\")\n",
    "if p_1=='rock' and p_2=='paper':\n",
    "    print('{} wins'.format(b))\n",
    "elif p_1=='rock'and p_2=='scissor':\n",
    "     print('{} wins'.format(a))\n",
    "elif p_1=='paper'and p_2=='scissor':\n",
    "    print('{} wins'.format(b))\n",
    "elif p_1=='paper'and p_2=='rock':\n",
    "     print('{} wins'.format(a))\n",
    "elif p_1=='scissor'and p_2=='rock':\n",
    "     print('{} wins'.format(b))\n",
    "elif p_1=='scissor'and p_2=='paper':\n",
    "     print('{} wins'.format(a))\n",
    "elif p_1=='rock' and p_2=='rock' or p_1=='paper' and p_2=='paper' or p_1=='scissor' and p_2=='scissor':\n",
    "    print('{} and {} were draw'.format(a,b))\n",
    "else:\n",
    "    print('you have entered wrong, please check once?')"
   ]
  },
  {
   "cell_type": "code",
   "execution_count": null,
   "id": "7bff2d77",
   "metadata": {},
   "outputs": [],
   "source": []
  }
 ],
 "metadata": {
  "kernelspec": {
   "display_name": "Python 3 (ipykernel)",
   "language": "python",
   "name": "python3"
  },
  "language_info": {
   "codemirror_mode": {
    "name": "ipython",
    "version": 3
   },
   "file_extension": ".py",
   "mimetype": "text/x-python",
   "name": "python",
   "nbconvert_exporter": "python",
   "pygments_lexer": "ipython3",
   "version": "3.9.13"
  }
 },
 "nbformat": 4,
 "nbformat_minor": 5
}
